{
  "nbformat": 4,
  "nbformat_minor": 0,
  "metadata": {
    "colab": {
      "name": "Hello, Colaboratory",
      "version": "0.3.2",
      "provenance": [],
      "collapsed_sections": [],
      "toc_visible": true,
      "include_colab_link": true
    },
    "kernelspec": {
      "display_name": "Python 3",
      "name": "python3"
    }
  },
  "cells": [
    {
      "cell_type": "markdown",
      "metadata": {
        "id": "view-in-github",
        "colab_type": "text"
      },
      "source": [
        "[View in Colaboratory](https://colab.research.google.com/github/MarkJayson0310/sp-dev-fx-webparts/blob/master/Hello,_Colaboratory.ipynb)"
      ]
    },
    {
      "metadata": {
        "id": "9J7p406abzgl",
        "colab_type": "text"
      },
      "cell_type": "markdown",
      "source": [
        "## Welcome to Colaboratory!\n",
        "\n",
        "Colaboratory is a Google research project created to help disseminate machine learning education and research. It's a Jupyter notebook environment that requires no setup to use and runs entirely in the cloud.\n",
        "\n",
        "Colaboratory notebooks are stored in [Google Drive](https://drive.google.com) and can be shared just as you would with Google Docs or Sheets. Colaboratory is free to use.\n",
        "\n",
        "For more information, see our [FAQ](https://research.google.com/colaboratory/faq.html)."
      ]
    },
    {
      "metadata": {
        "id": "rTX3heEtu0b2",
        "colab_type": "text"
      },
      "cell_type": "markdown",
      "source": [
        "## Local runtime support\n",
        "\n",
        "Colab also supports connecting to a Jupyter runtime on your local machine. For more information, see our [documentation](https://research.google.com/colaboratory/local-runtimes.html)."
      ]
    },
    {
      "metadata": {
        "id": "8iU2gnJFItM1",
        "colab_type": "text"
      },
      "cell_type": "markdown",
      "source": [
        "## Python 3\n",
        "\n",
        "Colaboratory supports both Python2 and Python3 for code execution. \n",
        "\n",
        "* When creating a new notebook, you'll have the choice between Python 2 and Python 3.\n",
        "* You can also change the language associated with a notebook; this information will be written into the `.ipynb` file itself, and thus will be preserved for future sessions."
      ]
    },
    {
      "metadata": {
        "id": "na0VvPXmYKp1",
        "colab_type": "code",
        "colab": {
          "height": 34
        },
        "outputId": "8fc2e3eb-f805-4d7a-c6a4-da9d8143603c"
      },
      "cell_type": "code",
      "source": [
        "import sys\n",
        "print('Hello, Colaboratory from Python {}!'.format(sys.version_info[0]))"
      ],
      "execution_count": 0,
      "outputs": [
        {
          "output_type": "stream",
          "text": [
            "Hello, Colaboratory from Python 3!\n"
          ],
          "name": "stdout"
        }
      ]
    },
    {
      "metadata": {
        "id": "8rH1OPCcJ-n6",
        "colab_type": "code",
        "colab": {
          "base_uri": "https://localhost:8080/",
          "height": 34
        },
        "outputId": "5a24625b-06be-4d96-c33f-19159dca1fa6"
      },
      "cell_type": "code",
      "source": [
        "import sys\n",
        "print('Hello world')"
      ],
      "execution_count": 1,
      "outputs": [
        {
          "output_type": "stream",
          "text": [
            "Hello world\n"
          ],
          "name": "stdout"
        }
      ]
    },
    {
      "metadata": {
        "id": "9wi5kfGdhK0R",
        "colab_type": "text"
      },
      "cell_type": "markdown",
      "source": [
        "## TensorFlow execution"
      ]
    },
    {
      "metadata": {
        "id": "S9GW-n-oYWIj",
        "colab_type": "text"
      },
      "cell_type": "markdown",
      "source": [
        "Colaboratory allows you to execute TensorFlow code in your browser with a single click. The example below adds two matrices.\n",
        "\n",
        "$\\begin{bmatrix}\n",
        "  1. & 1. & 1. \\\\\n",
        "  1. & 1. & 1. \\\\\n",
        "\\end{bmatrix} +\n",
        "\\begin{bmatrix}\n",
        "  1. & 2. & 3. \\\\\n",
        "  4. & 5. & 6. \\\\\n",
        "\\end{bmatrix} =\n",
        "\\begin{bmatrix}\n",
        "  2. & 3. & 4. \\\\\n",
        "  5. & 6. & 7. \\\\\n",
        "\\end{bmatrix}$"
      ]
    },
    {
      "metadata": {
        "id": "mwdQ1INEZKkb",
        "colab_type": "code",
        "colab": {}
      },
      "cell_type": "code",
      "source": [
        "import tensorflow as tf\n",
        "import numpy as np\n",
        "\n",
        "with tf.Session():\n",
        "  input1 = tf.constant(1.0, shape=[2, 3])\n",
        "  input2 = tf.constant(np.reshape(np.arange(1.0, 7.0, dtype=np.float32), (2, 3)))\n",
        "  output = tf.add(input1, input2)\n",
        "  result = output.eval()\n",
        "\n",
        "result"
      ],
      "execution_count": 0,
      "outputs": []
    },
    {
      "metadata": {
        "id": "yv2XIwi5hQ_g",
        "colab_type": "text"
      },
      "cell_type": "markdown",
      "source": [
        "## Visualization"
      ]
    },
    {
      "metadata": {
        "id": "rYs5mx2JZkmy",
        "colab_type": "text"
      },
      "cell_type": "markdown",
      "source": [
        "Colaboratory includes widely used libraries like [matplotlib](https://matplotlib.org/), simplifying visualization."
      ]
    },
    {
      "metadata": {
        "id": "xqrc5C-IaA5J",
        "colab_type": "code",
        "colab": {
          "base_uri": "https://localhost:8080/",
          "height": 350
        },
        "outputId": "a6f2e7af-3ab8-4710-9b23-165cb8b959fb"
      },
      "cell_type": "code",
      "source": [
        "import matplotlib.pyplot as plt\n",
        "import numpy as np\n",
        "\n",
        "x = np.arange(20)\n",
        "y = [x_i + np.random.randn(1) for x_i in x]\n",
        "a, b = np.polyfit(x, y, 1)\n",
        "_ = plt.plot(x, y, 'o', np.arange(20), a*np.arange(20)+b, '-')"
      ],
      "execution_count": 3,
      "outputs": [
        {
          "output_type": "display_data",
          "data": {
            "image/png": "[encoded data removed]",
            "text/plain": [
              "<matplotlib.figure.Figure at 0x7ff1a047d4a8>"
            ]
          },
          "metadata": {
            "tags": []
          }
        }
      ]
    },
    {
      "metadata": {
        "id": "AN_LRQ9NkOjs",
        "colab_type": "text"
      },
      "cell_type": "markdown",
      "source": [
        "Want to use a new library?  `pip install` it. For recipes to import commonly used libraries, refer to the [importing libraries example notebook](/notebooks/snippets/importing_libraries.ipynb)"
      ]
    },
    {
      "metadata": {
        "id": "FlQq0SUepQbd",
        "colab_type": "code",
        "colab": {
          "base_uri": "https://localhost:8080/",
          "height": 349
        },
        "outputId": "6e404831-3336-4633-b76f-c6313ecdd356"
      },
      "cell_type": "code",
      "source": [
        "# Only needs to be run once at the top of the notebook.\n",
        "!pip install -q matplotlib-venn\n",
        "\n",
        "# Now the newly-installed library can be used anywhere else in the notebook.\n",
        "from matplotlib_venn import venn2\n",
        "_ = venn2(subsets = (3, 2, 1))"
      ],
      "execution_count": 0,
      "outputs": [
        {
          "output_type": "display_data",
          "data": {
            "image/png": "[encoded data removed]",
            "text/plain": [
              "<matplotlib.figure.Figure at 0x7f48ff99ff10>"
            ]
          },
          "metadata": {
            "tags": []
          }
        }
      ]
    },
    {
      "metadata": {
        "id": "LxZ3dPzYnyNF",
        "colab_type": "text"
      },
      "cell_type": "markdown",
      "source": [
        "# Forms\n",
        "\n",
        "Forms can be used to parameterize code. See the [forms example notebook](/notebooks/forms.ipynb) for more details."
      ]
    },
    {
      "metadata": {
        "id": "FQ_Hx_9tn7uF",
        "colab_type": "code",
        "colab": {}
      },
      "cell_type": "code",
      "source": [
        "#@title Examples\n",
        "\n",
        "text = 'value' #@param \n",
        "date_input = '2018-03-22' #@param {type:\"date\"}\n",
        "number_slider = 0 #@param {type:\"slider\", min:-1, max:1, step:0.1}\n",
        "dropdown = '1st option' #@param [\"1st option\", \"2nd option\", \"3rd option\"]\n"
      ],
      "execution_count": 0,
      "outputs": []
    },
    {
      "metadata": {
        "id": "-Rh3-Vt9Nev9",
        "colab_type": "text"
      },
      "cell_type": "markdown",
      "source": [
        "# For more information:\n",
        "- [Overview of Colaboratory](/notebooks/basic_features_overview.ipynb)\n",
        "- [Importing libraries and installing dependencies](/notebooks/snippets/importing_libraries.ipynb)\n",
        "- [Markdown guide](/notebooks/markdown_guide.ipynb)\n",
        "- [Charts](/notebooks/charts.ipynb)\n",
        "- [Widgets](/notebooks/widgets.ipynb)\n",
        "- [Loading and saving data: local files, Drive, Sheets, Google Cloud Storage](/notebooks/io.ipynb)\n",
        "- [Example Google Cloud BigQuery notebook](/notebooks/bigquery.ipynb)\n",
        "- [TensorFlow with GPU](/notebooks/gpu.ipynb)\n",
        "- [Forms](/notebooks/forms.ipynb)"
      ]
    }
  ]
}